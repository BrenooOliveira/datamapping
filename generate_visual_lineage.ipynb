{
 "cells": [
  {
   "cell_type": "code",
   "execution_count": 1,
   "id": "c9149b58",
   "metadata": {},
   "outputs": [],
   "source": [
    "\n",
    "import pandas as pd\n",
    "import networkx as nx\n",
    "from pyvis.network import Network\n",
    "from pathlib import Path\n",
    "import argparse"
   ]
  },
  {
   "cell_type": "code",
   "execution_count": 3,
   "id": "d1577f17",
   "metadata": {},
   "outputs": [],
   "source": [
    "def split_origins(orig):\n",
    "    if pd.isna(orig):\n",
    "        return []\n",
    "    parts = [p.strip() for p in str(orig).split(\",\") if p.strip() and p.strip() != \"—\"]\n",
    "    return parts"
   ]
  },
  {
   "cell_type": "code",
   "execution_count": 4,
   "id": "49b21ed6",
   "metadata": {},
   "outputs": [],
   "source": [
    "\n",
    "\n",
    "def node_type_heuristic(name, final_table):\n",
    "    # heurística simples para categorizar nós (para colorir/formatar)\n",
    "    name = str(name)\n",
    "    if name == final_table:\n",
    "        return \"final_table\"\n",
    "    if name.endswith(\"_df\") or name.startswith(\"df_\") or \"fato\" in name or \"vw_\" in name:\n",
    "        return \"dataframe\"\n",
    "    if \"/\" in name or name.endswith(\".csv\") or name.endswith(\".parquet\") or name.startswith(\"data/\"):\n",
    "        return \"file\"\n",
    "    if \".\" in name:  # schema.table\n",
    "        return \"table\"\n",
    "    return \"dataframe\"\n"
   ]
  },
  {
   "cell_type": "code",
   "execution_count": 5,
   "id": "3e26588f",
   "metadata": {},
   "outputs": [],
   "source": [
    "\n",
    "\n",
    "def node_type_heuristic(name, final_table):\n",
    "    # heurística simples para categorizar nós (para colorir/formatar)\n",
    "    name = str(name)\n",
    "    if name == final_table:\n",
    "        return \"final_table\"\n",
    "    if name.endswith(\"_df\") or name.startswith(\"df_\") or \"fato\" in name or \"vw_\" in name:\n",
    "        return \"dataframe\"\n",
    "    if \"/\" in name or name.endswith(\".csv\") or name.endswith(\".parquet\") or name.startswith(\"data/\"):\n",
    "        return \"file\"\n",
    "    if \".\" in name:  # schema.table\n",
    "        return \"table\"\n",
    "    return \"dataframe\""
   ]
  },
  {
   "cell_type": "code",
   "execution_count": 6,
   "id": "87f01c5f",
   "metadata": {},
   "outputs": [],
   "source": [
    "\n",
    "\n",
    "def build_graph_from_csv(csv_path):\n",
    "    df = pd.read_csv(csv_path)\n",
    "\n",
    "    # Normaliza nomes de colunas se necessário (aceita maiúsc/minúsc)\n",
    "    cols_map = {}\n",
    "    for col in df.columns:\n",
    "        lc = col.strip().lower()\n",
    "        if lc == \"tabela final\" or lc == \"tabela_final\" or lc == \"final_table\":\n",
    "            cols_map[col] = \"Tabela Final\"\n",
    "        elif lc == \"dataframe\":\n",
    "            cols_map[col] = \"DataFrame\"\n",
    "        elif lc == \"origem\":\n",
    "            cols_map[col] = \"Origem\"\n",
    "        elif lc == \"transformação\" or lc == \"transformacao\" or lc == \"transform\":\n",
    "            cols_map[col] = \"Transformação\"\n",
    "    if cols_map:\n",
    "        df = df.rename(columns=cols_map)\n",
    "\n",
    "    # garante colunas mínimas\n",
    "    for c in [\"Tabela Final\", \"DataFrame\", \"Origem\", \"Transformação\"]:\n",
    "        if c not in df.columns:\n",
    "            df[c] = \"\"\n",
    "\n",
    "    G = nx.DiGraph()\n",
    "\n",
    "    for _, row in df.iterrows():\n",
    "        final_table = str(row.get(\"Tabela Final\", \"\")).strip() or None\n",
    "        df_name = str(row.get(\"DataFrame\", \"\")).strip() or None\n",
    "        transform = str(row.get(\"Transformação\", \"\")).strip()\n",
    "        origem = row.get(\"Origem\", \"\")\n",
    "        origins = split_origins(origem)\n",
    "\n",
    "        # adiciona nós e arestas origem -> df_name\n",
    "        for origin in origins:\n",
    "            if origin not in G:\n",
    "                G.add_node(origin, type=node_type_heuristic(origin, final_table))\n",
    "            edge_label = transform if transform and transform != \"—\" else \"\"\n",
    "            G.add_edge(origin, df_name or origin, label=edge_label)\n",
    "\n",
    "        # adiciona nó do dataframe\n",
    "        if df_name and df_name not in G:\n",
    "            G.add_node(df_name, type=node_type_heuristic(df_name, final_table))\n",
    "\n",
    "        # liga dataframe -> tabela final (se diferente)\n",
    "        if final_table and df_name and final_table != df_name:\n",
    "            if final_table not in G:\n",
    "                G.add_node(final_table, type=\"final_table\")\n",
    "            G.add_edge(df_name, final_table, label=transform if transform and transform != \"—\" else \"\")\n",
    "\n",
    "    return G\n"
   ]
  },
  {
   "cell_type": "code",
   "execution_count": 7,
   "id": "d92c894d",
   "metadata": {},
   "outputs": [],
   "source": [
    "\n",
    "def render_pyvis(G, output_html, notebook_mode=False, height=\"800px\", width=\"100%\"):\n",
    "    net = Network(directed=True, height=height, width=width, notebook=notebook_mode)\n",
    "    net.force_atlas_2based()\n",
    "\n",
    "    type_style = {\n",
    "        \"file\": {\"color\": \"#f4a261\", \"shape\": \"box\"},\n",
    "        \"table\": {\"color\": \"#2a9d8f\", \"shape\": \"ellipse\"},\n",
    "        \"dataframe\": {\"color\": \"#264653\", \"shape\": \"dot\"},\n",
    "        \"final_table\": {\"color\": \"#e76f51\", \"shape\": \"diamond\"}\n",
    "    }\n",
    "\n",
    "    for n, attrs in G.nodes(data=True):\n",
    "        ntype = attrs.get(\"type\", \"dataframe\")\n",
    "        style = type_style.get(ntype, {\"color\": \"#888\", \"shape\": \"dot\"})\n",
    "        in_deg = G.in_degree(n)\n",
    "        out_deg = G.out_degree(n)\n",
    "        title = f\"<b>{n}</b><br>Type: {ntype}<br>In: {in_deg} | Out: {out_deg}\"\n",
    "        net.add_node(n, label=n, title=title, color=style[\"color\"], shape=style[\"shape\"])\n",
    "\n",
    "    for u, v, attrs in G.edges(data=True):\n",
    "        lbl = attrs.get(\"label\", \"\")\n",
    "        net.add_edge(u, v, title=lbl, label=lbl, arrows=\"to\")\n",
    "\n",
    "    # opções de física/layout\n",
    "    net.set_options(\"\"\"\n",
    "    var options = {\n",
    "      \"physics\": {\"forceAtlas2Based\": {\"gravitationalConstant\": -50, \"springLength\": 100}, \"solver\": \"forceAtlas2Based\"},\n",
    "      \"manipulation\": { \"enabled\": false }\n",
    "    }\n",
    "    \"\"\")\n",
    "    net.show(output_html)\n",
    "    return output_html\n"
   ]
  },
  {
   "cell_type": "code",
   "execution_count": 8,
   "id": "60626f05",
   "metadata": {},
   "outputs": [
    {
     "name": "stderr",
     "output_type": "stream",
     "text": [
      "usage: ipykernel_launcher.py [-h] [--csv CSV] [--out OUT]\n",
      "ipykernel_launcher.py: error: unrecognized arguments: --f=/run/user/1000/jupyter/runtime/kernel-v316f979b3356e5fec3739859dbcc9d0c672e38f1c.json\n"
     ]
    },
    {
     "ename": "SystemExit",
     "evalue": "2",
     "output_type": "error",
     "traceback": [
      "An exception has occurred, use %tb to see the full traceback.\n",
      "\u001b[31mSystemExit\u001b[39m\u001b[31m:\u001b[39m 2\n"
     ]
    }
   ],
   "source": [
    "\n",
    "def main():\n",
    "    parser = argparse.ArgumentParser(description=\"Gera grafo de lineage interativo (pyvis) a partir de data_mapping.csv\")\n",
    "    parser.add_argument(\"--csv\", \"-c\", default=\"data_mapping.csv\", help=\"CSV de input (padrão: data_mapping.csv)\")\n",
    "    parser.add_argument(\"--out\", \"-o\", default=\"lineage_graph.html\", help=\"HTML de saída (padrão: lineage_graph.html)\")\n",
    "    args = parser.parse_args()\n",
    "\n",
    "    csv_path = Path(args.csv)\n",
    "    if not csv_path.exists():\n",
    "        raise FileNotFoundError(f\"CSV não encontrado: {csv_path}\")\n",
    "\n",
    "    print(f\"Lendo {csv_path} ...\")\n",
    "    G = build_graph_from_csv(csv_path)\n",
    "    print(f\"Nós: {len(G.nodes())}, Arestas: {len(G.edges())}\")\n",
    "\n",
    "    out = Path(args.out).resolve()\n",
    "    print(f\"Gerando HTML em {out} ...\")\n",
    "    render_pyvis(G, str(out))\n",
    "    print(f\"Concluído. Abra {out} no navegador.\")\n",
    "\n",
    "if __name__ == \"__main__\":\n",
    "    main()\n"
   ]
  },
  {
   "cell_type": "code",
   "execution_count": null,
   "id": "b8afc920",
   "metadata": {},
   "outputs": [],
   "source": []
  }
 ],
 "metadata": {
  "kernelspec": {
   "display_name": "venv",
   "language": "python",
   "name": "python3"
  },
  "language_info": {
   "codemirror_mode": {
    "name": "ipython",
    "version": 3
   },
   "file_extension": ".py",
   "mimetype": "text/x-python",
   "name": "python",
   "nbconvert_exporter": "python",
   "pygments_lexer": "ipython3",
   "version": "3.12.3"
  }
 },
 "nbformat": 4,
 "nbformat_minor": 5
}
